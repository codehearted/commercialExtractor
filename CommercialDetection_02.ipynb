{
 "metadata": {
  "name": "",
  "signature": "sha256:f0aed7bdb7d07ee397e2f8db01db2001b4f07551dd28c2450b907b8b5f280b56"
 },
 "nbformat": 3,
 "nbformat_minor": 0,
 "worksheets": [
  {
   "cells": [
    {
     "cell_type": "code",
     "collapsed": false,
     "input": [
      "\n",
      "from essentia.standard import *\n",
      "from pylab import plot, show, figure, imshow, axis, subplot\n",
      "from numpy import *\n",
      "\n",
      "\n",
      "#constants\n",
      "sr = 44100\n",
      "inputDir = 'input/'\n",
      "outputDir = 'output/'\n",
      "\n",
      "\n",
      "#inputFile = 'Safari_20141129_1443_CommercialDetection_irregular_short.aiff'\n",
      "inputFile = 'Safari_20141212_1103_CommercialDetection_pandora.aiff'\n",
      "\n",
      "# storage\n",
      "pool = essentia.Pool()\n",
      "\n",
      "print 'processing: ' + inputFile\n",
      "\n",
      "# processing module setup\n",
      "audio = MonoLoader(filename = inputDir+inputFile)()\n",
      "w = Windowing(type = 'hann')\n",
      "spectrum = Spectrum()  # FFT() would return the complex FFT, here we just want the magnitude spectrum\n",
      "mfcc = MFCC()\n",
      "rms = RMS()\n",
      "levels = LevelExtractor(frameSize = 20480, hopSize = 5120)\n",
      "loudness = Loudness()\n",
      "silenceThreshold = 1.0e-4\n",
      "\n"
     ],
     "language": "python",
     "metadata": {},
     "outputs": [
      {
       "output_type": "stream",
       "stream": "stdout",
       "text": [
        "processing: Safari_20141212_1103_CommercialDetection_pandora.aiff\n"
       ]
      }
     ],
     "prompt_number": 32
    },
    {
     "cell_type": "code",
     "collapsed": false,
     "input": [
      "# processing stream\n",
      "\n",
      "# get levels\n",
      "pool.add('lowlevel.levels',levels(audio))\n",
      "\n",
      "# find silent frames\n",
      "pool.add('silenceDetected',essentia.array(pool['lowlevel.levels'][0] < silenceThreshold))\n",
      "\n",
      "\n"
     ],
     "language": "python",
     "metadata": {},
     "outputs": [],
     "prompt_number": 33
    },
    {
     "cell_type": "code",
     "collapsed": false,
     "input": [
      "# find beginning and end frames of silence periods\n",
      "sil = pool['silenceDetected'][0];\n",
      "silences = { }\n"
     ],
     "language": "python",
     "metadata": {},
     "outputs": [],
     "prompt_number": 39
    },
    {
     "cell_type": "code",
     "collapsed": false,
     "input": [
      "sil.shape"
     ],
     "language": "python",
     "metadata": {},
     "outputs": [
      {
       "metadata": {},
       "output_type": "pyout",
       "prompt_number": 35,
       "text": [
        "(15595,)"
       ]
      }
     ],
     "prompt_number": 35
    },
    {
     "cell_type": "code",
     "collapsed": false,
     "input": [
      "essentia.array(pool['lowlevel.levels'][0] < silenceThreshold).shape"
     ],
     "language": "python",
     "metadata": {},
     "outputs": [
      {
       "metadata": {},
       "output_type": "pyout",
       "prompt_number": 19,
       "text": [
        "(15595,)"
       ]
      }
     ],
     "prompt_number": 19
    },
    {
     "cell_type": "code",
     "collapsed": false,
     "input": [
      "it = nditer([sil, None], \n",
      "       flags=['c_index', 'refs_ok'],\n",
      "       op_flags=[['readonly'],['writeonly','allocate']])\n",
      "\n",
      "if (it.index == 0):\n",
      "    it[1] = 0\n",
      "    it.iternext()\n",
      "\n",
      "while not it.finished:\n",
      "    if (sil[it.index] == 1.0): # preserve edges\n",
      "        if (sil[it.index-1] == 0):\n",
      "            it[1] = 1; # beginning of silence\n",
      "            silences[it.index] = 1;\n",
      "        elif (sil[it.index+1] == 0):\n",
      "            it[1] = 2; # end of silence\n",
      "            silences[it.index] = 2;\n",
      "        else:\n",
      "            it[1] = 0; # no change observed\n",
      "    else:\n",
      "        it[1] = 0;\n",
      "    it.iternext()\n"
     ],
     "language": "python",
     "metadata": {},
     "outputs": [],
     "prompt_number": 40
    },
    {
     "cell_type": "code",
     "collapsed": false,
     "input": [
      "pool.add('silenceEdges',it.operands[1]);\n"
     ],
     "language": "python",
     "metadata": {},
     "outputs": [],
     "prompt_number": 41
    },
    {
     "cell_type": "code",
     "collapsed": false,
     "input": [
      "silences"
     ],
     "language": "python",
     "metadata": {},
     "outputs": [
      {
       "metadata": {},
       "output_type": "pyout",
       "prompt_number": 42,
       "text": [
        "{5448: 1,\n",
        " 5494: 2,\n",
        " 5758: 1,\n",
        " 5781: 2,\n",
        " 8678: 1,\n",
        " 8694: 2,\n",
        " 11772: 1,\n",
        " 11808: 2,\n",
        " 14678: 1,\n",
        " 14709: 2,\n",
        " 14972: 1,\n",
        " 14983: 2,\n",
        " 15137: 1,\n",
        " 15161: 2}"
       ]
      }
     ],
     "prompt_number": 42
    },
    {
     "cell_type": "code",
     "collapsed": false,
     "input": [],
     "language": "python",
     "metadata": {},
     "outputs": []
    }
   ],
   "metadata": {}
  }
 ]
}